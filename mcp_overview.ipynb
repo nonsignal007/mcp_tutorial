{
 "cells": [
  {
   "cell_type": "markdown",
   "id": "8ad79e5f",
   "metadata": {},
   "source": [
    "# MCP 구조\n",
    "\n",
    "![image](assets/Agent-구조.png)"
   ]
  },
  {
   "cell_type": "markdown",
   "id": "9994371f",
   "metadata": {},
   "source": [
    "## RAG 예제"
   ]
  },
  {
   "cell_type": "code",
   "execution_count": null,
   "id": "59e101e6",
   "metadata": {},
   "outputs": [],
   "source": [
    "import pandas as pd\n",
    "\n",
    "df = pd.read_csv(\"hf://datasets/allganize/RAG-Evaluation-Dataset-KO/rag_evaluation_result.csv\")"
   ]
  },
  {
   "cell_type": "code",
   "execution_count": 8,
   "id": "7de17f3c",
   "metadata": {},
   "outputs": [
    {
     "data": {
      "text/plain": [
       "('쿠팡 상장과 이베이 인수  이후 국내 이커머스 시장은 어떻게 변할까.pdf',\n",
       " '이커머스 시장 규모가 가장 큰 국가와 그 규모, 이에 비해 가장 작은 규모를 보인 국가와 그 규모를 알려주세요.',\n",
       " '이커머스 시장 규모가 가장 큰 국가는 중국으로, 그 규모는 2,010조원입니다. 이에 비해 가장 작은 규모를 보인 국가는 인도로, 그 규모는 71조원입니다.')"
      ]
     },
     "execution_count": 8,
     "metadata": {},
     "output_type": "execute_result"
    }
   ],
   "source": [
    "df[df['target_file_name'].str.startswith('쿠팡')]['target_file_name'].iloc[0], \\\n",
    "df[df['target_file_name'].str.startswith('쿠팡')]['question'].iloc[0], \\\n",
    "df[df['target_file_name'].str.startswith('쿠팡')]['target_answer'].iloc[0]"
   ]
  },
  {
   "cell_type": "markdown",
   "id": "d3ce1568",
   "metadata": {},
   "source": [
    "### Agent 질문"
   ]
  },
  {
   "cell_type": "markdown",
   "id": "34355388",
   "metadata": {},
   "source": [
    "이커머스 시장 규모가 가장 큰 국가와 그 규모, 이에 비해 가장 작은 규모를 보인 국가와 그 규모를 알려주세요."
   ]
  },
  {
   "cell_type": "markdown",
   "id": "ce2737cd",
   "metadata": {},
   "source": [
    "### Agent 답변"
   ]
  },
  {
   "cell_type": "markdown",
   "id": "f2ba8f71",
   "metadata": {},
   "source": [
    "이커머스 시장 규모가 가장 큰 국가는 중국입니다. 2020년 기준으로 중국의 이커머스 시장 규모는 약 2,010조원으로, 전 세계 온라인 소비의 40.5%가 중국에서 창출되고 있습니다. \n",
    "\n",
    "반면에 가장 작은 규모를 보인 국가는 일본입니다. 일본의 이커머스 시장 규모는 약 233조원으로, 전체 소매 판매 거래액에서 이커머스가 차지하는 비중은 14% 내외에 불과합니다. \n",
    "\n",
    "이러한 차이는 경제 규모, 인구 규모, 그리고 각국의 디지털화 수준 등 다양한 요인들에 의해 발생합니다. 특히 일본의 경우 낮은 경기 성장, 고령화, 그리고 현금 문화 등이 온라인 상거래 시장의 성장을 저해하고 있습니다."
   ]
  },
  {
   "cell_type": "markdown",
   "id": "779ee60e",
   "metadata": {},
   "source": [
    "### Claude Desktop 으로 했을때"
   ]
  },
  {
   "cell_type": "markdown",
   "id": "9583d87d",
   "metadata": {},
   "source": [
    "이커머스 시장 규모가 가장 큰 국가\n",
    "중국\n",
    "\n",
    "시장 규모: 약 2,010조원 (2020년 기준)\n",
    "전 세계 온라인 소비의 40.5%가 중국에서 창출됨\n",
    "소매판매 대비 이커머스 비중: 44.8%\n",
    "2021년에 세계 최초로 이커머스 비중이 50%를 넘을 것으로 전망됨\n",
    "\n",
    "이커머스 시장 규모가 가장 작은 국가 (제시된 데이터 중)\n",
    "인도\n",
    "\n",
    "시장 규모: 약 71조원 (2020년 기준)\n",
    "소매판매 대비 이커머스 비중: 5.5%\n",
    "성장률(최근 3년): 49.9% (제시된 국가 중 가장 높은 성장률)\n",
    "\n",
    "제시된 자료에 따르면, 중국은 2위 국가인 미국(930조원)보다 2배 이상 큰 시장 규모를 보유하고 있으며, 인도는 비록 현재 규모는 작지만 빠른 성장률을 보이고 있습니다."
   ]
  },
  {
   "cell_type": "markdown",
   "id": "de54ff20",
   "metadata": {},
   "source": [
    "## Notion 예제"
   ]
  },
  {
   "cell_type": "markdown",
   "id": "30ac64cb",
   "metadata": {},
   "source": [
    "- Notion database 를 연결해서 그 내용을 확인해 보는 작업"
   ]
  },
  {
   "cell_type": "markdown",
   "id": "1d63c76f",
   "metadata": {},
   "source": [
    "### 질문 "
   ]
  },
  {
   "cell_type": "markdown",
   "id": "dc2c67d6",
   "metadata": {},
   "source": [
    "- 노션 데이터베이스에서 1주차 는 어떤 목록이 있어?"
   ]
  },
  {
   "cell_type": "markdown",
   "id": "9aa2258b",
   "metadata": {},
   "source": [
    "### 대답"
   ]
  },
  {
   "cell_type": "markdown",
   "id": "471e81ac",
   "metadata": {},
   "source": [
    "1주차에 해당하는 목록은 다음과 같습니다:\n",
    "\n",
    "1. **[Docker & Kubernetes 실습](https://www.notion.so/Docker-Kubernetes-192e44355a0980f099dfc7f87c00456d)**\n",
    "   - **Task**: Docker & Kubernetes\n",
    "   - **Status**: Complete\n",
    "   - **Date**: 2025-02-05\n",
    "\n",
    "2. **[Kubernetes](https://www.notion.so/Kubernetes-192e44355a098047b4a8dc3fc4fc3cdf)**\n",
    "   - **Task**: Docker & Kubernetes\n",
    "   - **Status**: Complete\n",
    "   - **Date**: 2025-02-05\n",
    "\n",
    "3. **[Docker](https://www.notion.so/Docker-191e44355a098006894ccea6249ddec2)**\n",
    "   - **Task**: Docker & Kubernetes\n",
    "   - **Status**: Complete\n",
    "   - **Date**: 2025-02-05\n",
    "\n",
    "4. **[Git & GitLab](https://www.notion.so/Git-GitLab-191e44355a0980239854eeea7f4cab5a)**\n",
    "   - **Task**: Linux & Git\n",
    "   - **Status**: Complete\n",
    "   - **Date**: 2025-02-04\n",
    "\n",
    "5. **[Linux & Vim](https://www.notion.so/Linux-Vim-191e44355a098006aa0bc2c0bf36fb2d)**\n",
    "   - **Task**: Linux & Git\n",
    "   - **Status**: Complete\n",
    "   - **Date**: 2025-02-04\n",
    "\n",
    "각 항목을 클릭하면 해당 페이지로 이동할 수 있습니다."
   ]
  },
  {
   "cell_type": "markdown",
   "id": "956b530d",
   "metadata": {},
   "source": [
    "- Qwen 2.5 는 ToolCalling 이 되지 않고, gpt-4o-mini 를 사용하였을때 load 되었음"
   ]
  },
  {
   "cell_type": "markdown",
   "id": "cf787db0",
   "metadata": {},
   "source": [
    "## web_search"
   ]
  },
  {
   "cell_type": "markdown",
   "id": "68a10189",
   "metadata": {},
   "source": [
    "### 질문\n",
    "\n",
    "- Qwen3 에 대해서 검색하고 한국말로 요약해줘"
   ]
  },
  {
   "cell_type": "markdown",
   "id": "7f68abc8",
   "metadata": {},
   "source": [
    "### 대답"
   ]
  },
  {
   "cell_type": "markdown",
   "id": "f0f9e022",
   "metadata": {},
   "source": [
    "Qwen3는 중국의 기술 회사인 알리바바가 발표한 '하이브리드' AI 추론 모델 패밀리입니다. 이 모델들은 구글과 오픈AI에서 제공하는 최고의 모델들과 비슷하거나 그 이상의 성능을 보여주며, 특히 프로그래밍 대회 플랫폼인 코드포스(Codeforces)에서 가장 큰 Qwen3 모델인 Qwen-3-235B-A22B는 오픈AI의 o3-mini와 구글의 Gemini 2.5 Pro를 능가하는 성능을 보였습니다. 또한, Qwen-3-235B-A22B는 AIME라는 어려운 수학 벤치마크 테스트와 문제 해결 능력을 평가하는 BFCL 테스트에서도 o3-mini보다 우수한 성적을 거두었습니다. \n",
    "\n",
    "Qwen3는 다양한 도구 사용 및 함수 호출을 지원하며, 이를 위한 여러 가지 방법들이 제시되어 있습니다. 예를 들어, SGLang, vLLM, Transformers, llama.cpp, Ollama 등 다양한 플랫폼에서 Qwen3를 활용할 수 있습니다."
   ]
  },
  {
   "cell_type": "markdown",
   "id": "7b238bfe",
   "metadata": {},
   "source": [
    "## 현재 날씨"
   ]
  },
  {
   "cell_type": "markdown",
   "id": "74baa1a9",
   "metadata": {},
   "source": [
    "### 질문\n",
    "\n",
    "- 현재 서울 날씨를 알려줘"
   ]
  },
  {
   "cell_type": "markdown",
   "id": "afc078da",
   "metadata": {},
   "source": [
    "### 대답"
   ]
  },
  {
   "cell_type": "markdown",
   "id": "b1a4441e",
   "metadata": {},
   "source": [
    "- 현재 서울의 날씨는 맑음이며, 기온은 20.4도씨 입니다."
   ]
  },
  {
   "cell_type": "code",
   "execution_count": 2,
   "id": "0c25f6d4",
   "metadata": {},
   "outputs": [
    {
     "name": "stderr",
     "output_type": "stream",
     "text": [
      "\u001b[2;36m[04/29/25 16:26:46]\u001b[0m\u001b[2;36m \u001b[0m\u001b[34mINFO    \u001b[0m PATH is existed : \u001b[3;92mTrue\u001b[0m         \u001b]8;id=262076;file:///data/aisvc_data/intern2025_1/sms/sms_gitlab/MCP-TEST/mcp_tools/rag/mcp_server_rag.py\u001b\\\u001b[2mmcp_server_rag.py\u001b[0m\u001b]8;;\u001b\\\u001b[2m:\u001b[0m\u001b]8;id=110821;file:///data/aisvc_data/intern2025_1/sms/sms_gitlab/MCP-TEST/mcp_tools/rag/mcp_server_rag.py#78\u001b\\\u001b[2m78\u001b[0m\u001b]8;;\u001b\\\n",
      "\u001b[2;36m                   \u001b[0m\u001b[2;36m \u001b[0m\u001b[34mINFO    \u001b[0m Current Path :                 \u001b]8;id=401746;file:///data/aisvc_data/intern2025_1/sms/sms_gitlab/MCP-TEST/mcp_tools/rag/mcp_server_rag.py\u001b\\\u001b[2mmcp_server_rag.py\u001b[0m\u001b]8;;\u001b\\\u001b[2m:\u001b[0m\u001b]8;id=651918;file:///data/aisvc_data/intern2025_1/sms/sms_gitlab/MCP-TEST/mcp_tools/rag/mcp_server_rag.py#79\u001b\\\u001b[2m79\u001b[0m\u001b]8;;\u001b\\\n",
      "\u001b[2;36m                    \u001b[0m         \u001b[35m/data/aisvc_data/intern2025_1/\u001b[0m \u001b[2m                    \u001b[0m\n",
      "\u001b[2;36m                    \u001b[0m         \u001b[35msms/sms_gitlab/\u001b[0m\u001b[95mMCP-TEST\u001b[0m        \u001b[2m                    \u001b[0m\n",
      "\u001b[2;36m[04/29/25 16:27:01]\u001b[0m\u001b[2;36m \u001b[0m\u001b[34mINFO    \u001b[0m Use pytorch device_name: \u001b]8;id=964507;file:///data/aisvc_data/intern2025_1/sms/sms_gitlab/MCP-TEST/.venv/lib/python3.12/site-packages/sentence_transformers/SentenceTransformer.py\u001b\\\u001b[2mSentenceTransformer.py\u001b[0m\u001b]8;;\u001b\\\u001b[2m:\u001b[0m\u001b]8;id=778711;file:///data/aisvc_data/intern2025_1/sms/sms_gitlab/MCP-TEST/.venv/lib/python3.12/site-packages/sentence_transformers/SentenceTransformer.py#211\u001b\\\u001b[2m211\u001b[0m\u001b]8;;\u001b\\\n",
      "\u001b[2;36m                    \u001b[0m         cpu                      \u001b[2m                          \u001b[0m\n",
      "\u001b[2;36m                   \u001b[0m\u001b[2;36m \u001b[0m\u001b[34mINFO    \u001b[0m Load pretrained          \u001b]8;id=956859;file:///data/aisvc_data/intern2025_1/sms/sms_gitlab/MCP-TEST/.venv/lib/python3.12/site-packages/sentence_transformers/SentenceTransformer.py\u001b\\\u001b[2mSentenceTransformer.py\u001b[0m\u001b]8;;\u001b\\\u001b[2m:\u001b[0m\u001b]8;id=658056;file:///data/aisvc_data/intern2025_1/sms/sms_gitlab/MCP-TEST/.venv/lib/python3.12/site-packages/sentence_transformers/SentenceTransformer.py#219\u001b\\\u001b[2m219\u001b[0m\u001b]8;;\u001b\\\n",
      "\u001b[2;36m                    \u001b[0m         SentenceTransformer:     \u001b[2m                          \u001b[0m\n",
      "\u001b[2;36m                    \u001b[0m         BAAI/bge-m3              \u001b[2m                          \u001b[0m\n",
      "\u001b[2;36m[04/29/25 16:27:07]\u001b[0m\u001b[2;36m \u001b[0m\u001b[34mINFO    \u001b[0m Loading faiss with AVX2 support.      \u001b]8;id=916347;file:///data/aisvc_data/intern2025_1/sms/sms_gitlab/MCP-TEST/.venv/lib/python3.12/site-packages/faiss/loader.py\u001b\\\u001b[2mloader.py\u001b[0m\u001b]8;;\u001b\\\u001b[2m:\u001b[0m\u001b]8;id=754196;file:///data/aisvc_data/intern2025_1/sms/sms_gitlab/MCP-TEST/.venv/lib/python3.12/site-packages/faiss/loader.py#125\u001b\\\u001b[2m125\u001b[0m\u001b]8;;\u001b\\\n",
      "\u001b[2;36m                   \u001b[0m\u001b[2;36m \u001b[0m\u001b[34mINFO    \u001b[0m Successfully loaded faiss with AVX2   \u001b]8;id=400889;file:///data/aisvc_data/intern2025_1/sms/sms_gitlab/MCP-TEST/.venv/lib/python3.12/site-packages/faiss/loader.py\u001b\\\u001b[2mloader.py\u001b[0m\u001b]8;;\u001b\\\u001b[2m:\u001b[0m\u001b]8;id=921780;file:///data/aisvc_data/intern2025_1/sms/sms_gitlab/MCP-TEST/.venv/lib/python3.12/site-packages/faiss/loader.py#127\u001b\\\u001b[2m127\u001b[0m\u001b]8;;\u001b\\\n",
      "\u001b[2;36m                    \u001b[0m         support.                              \u001b[2m             \u001b[0m\n",
      "\u001b[2;36m                   \u001b[0m\u001b[2;36m \u001b[0m\u001b[34mINFO    \u001b[0m Failed to load GPU Faiss: name      \u001b]8;id=560947;file:///data/aisvc_data/intern2025_1/sms/sms_gitlab/MCP-TEST/.venv/lib/python3.12/site-packages/faiss/__init__.py\u001b\\\u001b[2m__init__.py\u001b[0m\u001b]8;;\u001b\\\u001b[2m:\u001b[0m\u001b]8;id=689875;file:///data/aisvc_data/intern2025_1/sms/sms_gitlab/MCP-TEST/.venv/lib/python3.12/site-packages/faiss/__init__.py#174\u001b\\\u001b[2m174\u001b[0m\u001b]8;;\u001b\\\n",
      "\u001b[2;36m                    \u001b[0m         \u001b[32m'GpuIndexIVFFlat'\u001b[0m is not defined.   \u001b[2m               \u001b[0m\n",
      "\u001b[2;36m                    \u001b[0m         Will not load constructor refs for  \u001b[2m               \u001b[0m\n",
      "\u001b[2;36m                    \u001b[0m         GPU indexes. This is only an error  \u001b[2m               \u001b[0m\n",
      "\u001b[2;36m                    \u001b[0m         if you're trying to use GPU Faiss.  \u001b[2m               \u001b[0m\n"
     ]
    },
    {
     "data": {
      "text/plain": [
       "'어두고 있는 이유는 무엇인가’에 대한 답을 구하기 위해 국내 이커머스 시장의 전반적인 현황을 \\n글로벌과 비교해 살펴보았다.  \\n \\n(1) 글로벌 \\n이커머스의 성장은 글로벌 공통 \\n2020년 글로벌 이커머스 시장규모는 4.2조 USD(약 5천조원)를 넘어섰다. 미국, 중국, 일본 등 \\n경제규모 상위 국가뿐 아니라 동남아시아, 인도, 남미, 유럽 등 대부분 지역에서 높은 성장률을 \\n보이고 있다. 전 세계 소매유통 시장에서 이커머스가 차지하는 비중은 약 18%에 달한다.  \\n \\n시장 규모가 가장 큰 나라는 중국으로, 전 세계 온라인 소비의 40.5%가 중국에서 창출되고 있\\n다. 한국은 미국, 일본, 영국에 이어 전 세계 5위(점유율 3.2%)의 시장규모를 보유하고 있다. 성\\n장률은 이커머스 확산 초기에 매우 빠르고, 시장 침투율(소매판매 대비 이커머스 비중)이 성숙해\\n질수록 둔화되는 모습을 보이고 있다.\\n14.3% \\n19.9% \\n22.7% \\n8.4% \\n19.2% \\n49.9% \\n소매판매 대비 비중 \\n44.8% \\n14.5% \\n27.9% \\n13.4% \\n33.6% \\n5.5% \\n상위 3 사 점유율 \\n92.4% \\n50.1% \\n44.6% \\n55.2% \\n43.6% \\n66.1% \\n자료: emarketer, statista, 각 국가 통계기관, 보도자료, 당사가공 \\n \\n\\uf06e 중국: ‘이커머스 성장은 어디까지 가능할 것인가’의 척도 \\n글로벌 이커머스 최대 시장이다. 2020년 온라인 시장규모는 약 2천조원으로, 2위 국가인 미국 대비 규모가 2배 이상 \\n차이가 난다. 전체 소매판매 거래액 중에서 이커머스가 차지하는 비중은 약 45%에 달하고 있으며, 2021년에는 세계 \\n최초로 50%를 넘을 것으로 전망되고 있다.  \\n \\n상위 3사의 시장점유율은 92.4%에 달한다. 오픈마켓과 광고∙마케팅 수익 중심의 알리바바(1위, 56%)는 압도적인 거래\\n점유율과 낮은 비용부담으로 우수한 수익창출을 지속하고 있으며, 직매입과 물류 경쟁력을 기반으로 하는 JD닷컴(2위, \\n22.2%)은 2019년 들어서야 흑자전환하였다. 제반 사업구성과 전략이 알리바바는 네이버와, JD닷컴은 쿠팡과 유사하\\n다.  \\n \\n\\uf06e 미국: 아마존과 월마트가 양분한 소매유통시장, 온라인과 오프라인의 방향성 제시 \\n글로벌 이커머스 시장규모 2위이다. 아마존이 독자적인 경쟁력을 보이며 이커머스 시장을 견인하고 있으나, 넓은 지역\\n단위와 오프라인 중심의 소비 문화로 온라인 침투율은 글로벌 평균을 하회하고 있다.  \\n \\n아마존과 월마트는 각각 온라인과 오프라인 분야에서 사업의 방향성을 제시하고 있다. 아마존은 지배적인 시장점유율 \\n확보와 성공적인 연계사업 확장의 성과를 보여줬고, 월마트는 오프라인 매장을 활용하여 온라인 소비에 효과적으로 대\\n응하였다. 국내에서는 쿠팡이 아마존을, 이마트가 월마트를 목표로 한다.\\n쿠팡 상장과 이베이 인수 이후, 국내 이커머스 시장은 어떻게 변할까 \\n \\n \\n6\\n \\n아마존과 알리바바의 \\n글로벌 시장 진출,  \\n한국은 제외 \\n국가별 이커머스 시장 비중(2020년)             글로벌 이커머스 시장 규모, 성장률 (단위: 조원, %) \\n자료: emarketer, statista, 각 국가 통계기관, 당사가공 \\n \\n주요국 이커머스 시장은 이미 상위업체가 상당부분 점유 \\n이커머스가 발달한 주요 국가 대부분에서 상위 3개 업체의 점유율이 50%~90%에 달하는 등 \\n편중도가 심한 것으로 나타나고 있다. MS가 클수록 인프라 활용도가 높아지면서 규모의 경제가 \\n나타날 수 있는 수익구조의 특성이기도 하며, 높아진 인지도가 신규 고객유입을 더욱 촉진하는 \\n플랫폼사업의 특성도 반영하고 있다.  \\n \\n이커머스 상위 6개국 중 한국을 제외하고는 전부 아마존과 알리바바가 상당한 점유율을 확보하\\n고 있다. 알리바바는 중국과 동남아시아 지역에, 아마존은 아시아 지역 보다는 경제규모가 크거\\n나 성장성이 높은 북미, 유럽, 일본, 인도 시장에 집중했다. 그 사이 한국에서는 다수의 소셜커\\n머스가 성장기반을 마련하고 있었다.  \\n \\n국가별 이커머스 현황 Summary  \\n \\n구 분  \\nChina \\nUS \\nUK \\nJapan \\nS.Korea \\nIndia \\n이커머스 시장규모 \\n2,010 조원 \\n930 조원 \\n184 조원 \\n233 조원 \\n159 조원 \\n71 조원 \\n성장률(최근 3 년) \\n14.3% \\n19.9% \\n22.7% \\n8.4% \\n19.2% \\n49.9% \\n소매판매 대비 비중 \\n44.8% \\n14.5% \\n27.9% \\n13.4% \\n33.6% \\n5.5% \\n상위 사업자 \\n \\n \\n \\n \\n \\n \\n- Top1 \\n알리바바 \\n아마존 \\n아마존 \\n라쿠텐 \\n네이버 \\n아마존 \\n- Top2 \\nJD 닷컴 \\n월마트 \\n이베이 \\n아마존 \\n쿠팡 \\n플립카트 \\n- Top3 \\n핀둬둬 \\n이베이 \\nSainsbury \\n야후 \\n이베이 \\nPaytm \\n상위 3 사 점유율 \\n92.4% \\n50.1% \\n44.6'"
      ]
     },
     "execution_count": 2,
     "metadata": {},
     "output_type": "execute_result"
    }
   ],
   "source": [
    "from mcp_tools.rag.mcp_server_rag import retrieve\n",
    "\n",
    "await retrieve(\"이커머스 시장 규모가 가장 큰 국가와 그 규모, 이에 비해 가장 작은 규모를 보인 국가와 그 규모를 알려주세요.\")"
   ]
  },
  {
   "cell_type": "code",
   "execution_count": null,
   "id": "4c710dbe",
   "metadata": {},
   "outputs": [],
   "source": []
  }
 ],
 "metadata": {
  "kernelspec": {
   "display_name": ".venv",
   "language": "python",
   "name": "python3"
  },
  "language_info": {
   "codemirror_mode": {
    "name": "ipython",
    "version": 3
   },
   "file_extension": ".py",
   "mimetype": "text/x-python",
   "name": "python",
   "nbconvert_exporter": "python",
   "pygments_lexer": "ipython3",
   "version": "3.12.10"
  }
 },
 "nbformat": 4,
 "nbformat_minor": 5
}
